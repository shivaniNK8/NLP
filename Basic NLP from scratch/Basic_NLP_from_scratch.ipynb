{
 "cells": [
  {
   "cell_type": "markdown",
   "id": "8d47d7cb",
   "metadata": {},
   "source": [
    "# Assignment 1 - Text Preprocessing and Bag Of Words\n",
    "### Submitted by : Shivani Shrikant Naik\n",
    "#### Reference: Text Classfication Python Notebook"
   ]
  },
  {
   "cell_type": "markdown",
   "id": "4947213d",
   "metadata": {},
   "source": [
    "* All reviews from the movie_reviews dataset have already been converted to lowercase in nltk, so I have displayed lowercasing custom function working on a test dataframe\n",
    "* Use of regular expression for punctuation removal\n",
    "* Used lemmatization for final modeling\n",
    "* Used external stopwords.txt for stopword removal\n",
    "* Used nltk sentiment analyser with Vader"
   ]
  },
  {
   "cell_type": "code",
   "execution_count": 263,
   "id": "b9926de2",
   "metadata": {},
   "outputs": [],
   "source": [
    "# Import necessary libraries\n",
    "import nltk\n",
    "import pandas as pd\n",
    "import numpy as np\n",
    "from pprint import pprint\n",
    "import re\n",
    "from nltk.stem import PorterStemmer, WordNetLemmatizer\n",
    "import seaborn as sns\n",
    "from sklearn.preprocessing import LabelEncoder\n",
    "import matplotlib.pyplot as plt\n",
    "from sklearn.feature_extraction.text import CountVectorizer\n",
    "import scikitplot as skplt\n",
    "from sklearn.model_selection import train_test_split, GridSearchCV\n",
    "\n",
    "from sklearn.tree import DecisionTreeClassifier\n",
    "from sklearn.ensemble import RandomForestClassifier, GradientBoostingClassifier\n",
    "from sklearn.linear_model import LogisticRegression\n",
    "from sklearn.naive_bayes import MultinomialNB\n",
    "from sklearn.metrics import accuracy_score, roc_auc_score, classification_report\n",
    "from nltk.sentiment import SentimentIntensityAnalyzer\n",
    "\n",
    "from nltk.tokenize import word_tokenize\n",
    "from nltk.sentiment.util import *\n",
    "from nltk.classify import NaiveBayesClassifier\n",
    "\n",
    "%matplotlib inline"
   ]
  },
  {
   "cell_type": "code",
   "execution_count": null,
   "id": "8d3a3c2f",
   "metadata": {},
   "outputs": [],
   "source": [
    "# Download IMDB movie reviews dataset from NLTK\n",
    "nltk.download(\"movie_reviews\")\n",
    "nltk.download('averaged_perceptron_tagger')\n",
    "nltk.download('vader_lexicon')\n"
   ]
  },
  {
   "cell_type": "code",
   "execution_count": 3,
   "id": "a3cbdce0",
   "metadata": {},
   "outputs": [],
   "source": [
    "# Import movie reviews\n",
    "from nltk.corpus import movie_reviews"
   ]
  },
  {
   "cell_type": "markdown",
   "id": "4ce6de55",
   "metadata": {},
   "source": [
    "###  [EXTRA] lowercasing with Entity Recognition mentioned in class - using Part of Speech Tagging\n"
   ]
  },
  {
   "cell_type": "code",
   "execution_count": 4,
   "id": "3aa3a27c",
   "metadata": {},
   "outputs": [
    {
     "data": {
      "text/html": [
       "<div>\n",
       "<style scoped>\n",
       "    .dataframe tbody tr th:only-of-type {\n",
       "        vertical-align: middle;\n",
       "    }\n",
       "\n",
       "    .dataframe tbody tr th {\n",
       "        vertical-align: top;\n",
       "    }\n",
       "\n",
       "    .dataframe thead th {\n",
       "        text-align: right;\n",
       "    }\n",
       "</style>\n",
       "<table border=\"1\" class=\"dataframe\">\n",
       "  <thead>\n",
       "    <tr style=\"text-align: right;\">\n",
       "      <th></th>\n",
       "      <th>text</th>\n",
       "      <th>lowered</th>\n",
       "    </tr>\n",
       "  </thead>\n",
       "  <tbody>\n",
       "    <tr>\n",
       "      <th>0</th>\n",
       "      <td>Men plans an astonishing canal  Panama</td>\n",
       "      <td>men plans an astonishing canal Panama</td>\n",
       "    </tr>\n",
       "    <tr>\n",
       "      <th>1</th>\n",
       "      <td>They refuse to permit US to obtain the licence</td>\n",
       "      <td>they refuse to permit US to obtain the licence</td>\n",
       "    </tr>\n",
       "    <tr>\n",
       "      <th>2</th>\n",
       "      <td>She Likes India</td>\n",
       "      <td>she likes India</td>\n",
       "    </tr>\n",
       "  </tbody>\n",
       "</table>\n",
       "</div>"
      ],
      "text/plain": [
       "                                             text  \\\n",
       "0         Men plans an astonishing canal  Panama    \n",
       "1  They refuse to permit US to obtain the licence   \n",
       "2                                 She Likes India   \n",
       "\n",
       "                                          lowered  \n",
       "0           men plans an astonishing canal Panama  \n",
       "1  they refuse to permit US to obtain the licence  \n",
       "2                                 she likes India  "
      ]
     },
     "execution_count": 4,
     "metadata": {},
     "output_type": "execute_result"
    }
   ],
   "source": [
    "test_df = pd.DataFrame({'text':[\"Men, plan's, an astonishing canal - Panama. \", \n",
    "                                \"They refuse to permit US to obtain the licence\",\n",
    "                               \"She Likes India\"]})\n",
    "def tokens(df, col, tokenized_col):\n",
    "        df[tokenized_col] = df[col].apply(lambda x:x.split())\n",
    "        \n",
    "def punctuation(df, col, regex = False):\n",
    "        df[col] = df[col].apply(lambda x: re.sub(pattern = '\\\\n|\\\\t|[^\\w\\s]', repl = \"\", string = x))\n",
    "\n",
    "\n",
    "def toLowerWithPartOfSpeech(df, col):\n",
    "    # Remove punctuation to avoid tagging normal noun as proper noun\n",
    "    punctuation(df,col)\n",
    "    # Tokenize the sentence to perform part of speech tagging\n",
    "    tokens(df,col,\"pos_tokens\")\n",
    "    \n",
    "    # Perform part of speech tagging to identify entities and proper nouns\n",
    "    df[\"pos_tags\"] = df[\"pos_tokens\"].apply(nltk.pos_tag) \n",
    "    # Filter proper nouns (NNP)\n",
    "    df[\"nnp_pos\"] = df[\"pos_tags\"].apply(lambda x: [tag[0] for tag in x if tag[1]==\"NNP\"])\n",
    "    # Create list of all proper nouns\n",
    "    pos_list = list(np.concatenate(df['nnp_pos']))\n",
    "    \n",
    "    # lowercase tokens if they are not entities / proper nouns like USA, US, Panama etc\n",
    "    df[\"lowered\"] = df[\"pos_tokens\"].apply(lambda x: \" \".join(word.lower() if word not in pos_list else word for word in x ))\n",
    "\n",
    "toLowerWithPartOfSpeech(test_df,\"text\")\n",
    "test_df[[\"text\", \"lowered\"]]\n"
   ]
  },
  {
   "cell_type": "markdown",
   "id": "2b5b5d42",
   "metadata": {},
   "source": [
    "# Class encapsulating all functions"
   ]
  },
  {
   "cell_type": "code",
   "execution_count": 264,
   "id": "82d358a9",
   "metadata": {},
   "outputs": [],
   "source": [
    "# Class containing text processing and modeling functions\n",
    "class TextProcess():\n",
    "    def __init__(self):\n",
    "        # Initialise dataset while instantiating\n",
    "        self.make_dataset()\n",
    "    \n",
    "    # Create combined dataset with positive and negative reviews\n",
    "    def make_dataset(self):\n",
    "        self.neg_fileids = movie_reviews.fileids('neg')\n",
    "        self.pos_fileids = movie_reviews.fileids('pos')\n",
    "        neg_data = pd.DataFrame(\n",
    "            {'review':movie_reviews.raw(fileids=[f]),'label': 'neg'} for f in self.neg_fileids\n",
    "        )\n",
    "        pos_data = pd.DataFrame(\n",
    "            {'review':movie_reviews.raw(fileids=[f]),'label': 'pos'} for f in self.pos_fileids\n",
    "        )\n",
    "        self.df = pd.concat([pos_data, neg_data]).reset_index(drop=True)\n",
    "        self.df[\"raw_review\"] = self.df[\"review\"]\n",
    "    \n",
    "    # Exploratory data analysis function\n",
    "    def eda(self):\n",
    "        print(\"Total number of movies: \", len(movie_reviews.fileids()))\n",
    "        print(\"Movie review categories: \", movie_reviews.categories())\n",
    "        print(\"Number of positive and negative reviews:\\n\", self.df['label'].value_counts())\n",
    "        print(\"\\n\\n\")\n",
    "        print(\"Sample review: \",  self.df['review'][2])\n",
    "    \n",
    "    # Lowercase conversion for specified column of dataframe   \n",
    "    def toLower(self, col):\n",
    "        self.df[col] = self.df[col].apply(lambda x:x.lower())\n",
    "    \n",
    "    \n",
    "    def toLowerWithPartOfSpeech(self, col, pos_entity_lower = True):\n",
    "        if pos_entity_lower == True:\n",
    "            # Remove punctuation to avoid tagging normal noun as proper noun\n",
    "            punctuation(self.df,col)\n",
    "            # Tokenize the sentence to perform part of speech tagging\n",
    "            tokens(self.df,col,\"pos_tokens\")\n",
    "\n",
    "            # Perform part of speech tagging to identify entities and proper nouns\n",
    "            self.df[\"pos_tags\"] = self.df[\"pos_tokens\"].apply(nltk.pos_tag) \n",
    "            # Filter proper nouns (NNP)\n",
    "            self.df[\"nnp_pos\"] = self.df[\"pos_tags\"].apply(lambda x: [tag[0] for tag in x if tag[1]==\"NNP\"])\n",
    "            # Create list of all proper nouns\n",
    "            pos_list = list(np.concatenate(self.df['nnp_pos']))\n",
    "\n",
    "            # lowercase tokens if they are not entities /proper nouns like USA, US, Panama etc\n",
    "            self.df[col] = self.df[\"pos_tokens\"].apply(lambda x: \" \".join(word.lower() if word not in pos_list else word for word in x ))\n",
    "        else:\n",
    "            self.df[col] = self.df[col].apply(lambda x:x.lower())\n",
    "\n",
    "    \n",
    "    # Remove punctuations from column using regular expression\n",
    "    def removePunctuation(self, col):\n",
    "        self.df[col] = self.df[col].apply(lambda x: re.sub(pattern = '[^\\w\\s]', repl = \"\", string = x))\n",
    "        self.df[col] = self.df[col].apply(lambda x: re.sub(pattern = '\\\\n|\\\\t', repl = \" \", string = x))\n",
    "\n",
    "        \n",
    "    \n",
    "    # Remove stopwords using externally downloaded stopwords.txt file \n",
    "    def removeStopwords(self,col):\n",
    "        stopwords = pd.read_csv(\"stopwords.txt\",header=None)\n",
    "        stopwords = list(stopwords[0])\n",
    "        self.df[col] = self.df[col].apply(lambda x: \" \".join(x for x in x.split() if x not in stopwords)) \n",
    "        \n",
    "    # Tokenize string using space\n",
    "    def tokenize(self, col):\n",
    "        self.df[col+'_tokenized'] = self.df[col].apply(lambda x:x.split())\n",
    "    \n",
    "    # Perform stemming\n",
    "    def nltk_stem(self, col):\n",
    "        stemmer = PorterStemmer()\n",
    "        self.df[col] = self.df[col].apply(lambda x: [stemmer.stem(word) for word in x])\n",
    "    \n",
    "    # Perform lemmatization\n",
    "    def wordnet_lemmatize(self, col):\n",
    "        lemmatizer = WordNetLemmatizer()\n",
    "        self.df[col] = self.df[col].apply(lambda x: [lemmatizer.lemmatize(word) for word in x])\n",
    "    \n",
    "    # Plot frequencies of words\n",
    "    def freq_plot(self, col):\n",
    "        self.word_frequency = pd.Series(np.concatenate(self.df[col])).value_counts()\n",
    "        freq_words = self.word_frequency[:15]\n",
    "        plt.figure(figsize = (15,8))\n",
    "        plt.title(\"Top 15 word frequencies\")\n",
    "        sns.barplot(x = freq_words, y = freq_words.index, orient = 'h')\n",
    "        plt.figure(figsize = (15,8))\n",
    "\n",
    "        sorted_freq = sorted(list(self.word_frequency), reverse=True)\n",
    "        plt.title(\"Log Frequencies\")\n",
    "\n",
    "        plt.loglog(sorted_freq)\n",
    "        \n",
    "        plt.figure(figsize = (15,8))\n",
    "        plt.title(\"Histogram of log frequencies\")\n",
    "        plt.hist(sorted_freq, bins=50, log=True)\n",
    "        \n",
    "         \n",
    "    # Remove 'n' frequent unimportant words, n can be a parameter that can be changed\n",
    "    def remove_freq_unimportant_words(self, col, n = 3):\n",
    "        freq_unimp_words = pd.Series(np.concatenate(self.df[col])).value_counts()[:n].index.tolist() #check how to decide\n",
    "        self.df[col] = self.df[col].apply(lambda x:[word for word in x if word not in freq_unimp_words])\n",
    "    \n",
    "    # Create bag of words \n",
    "    def create_bow(self,  col, max_features = 30000):\n",
    "        self.df['review_cleaned'] = self.df[col].apply(lambda x: ' '.join(x))\n",
    "        X = self.df['review_cleaned']\n",
    "        y = self.df['label']\n",
    "    \n",
    "        le = LabelEncoder()\n",
    "        y = le.fit_transform(y)\n",
    "        cnt_vec = CountVectorizer(analyzer=\"word\", max_features = max_features) #try tuning\n",
    "        bow = cnt_vec.fit_transform(X)\n",
    "    \n",
    "        return(cnt_vec, bow, y)\n",
    "    \n",
    "    # Assigning sentiment label to one review using NLTK sentiment analyzer\n",
    "    def sentiment_label(self, text):\n",
    "        sia = SentimentIntensityAnalyzer()\n",
    "        # predict polarity score for every sentence and take average of scores\n",
    "        sentences = nltk.sent_tokenize(text)\n",
    "        \n",
    "        scores = [ sia.polarity_scores(sentence)[\"compound\"] for sentence in sentences]\n",
    "        if np.mean(scores) > 0.1:\n",
    "            return \"pos\"\n",
    "        else:\n",
    "            return \"neg\"\n",
    "    \n",
    "    # NLTK Sentiment Analyzer\n",
    "    def nltk_sentiment_analysis(self, col):\n",
    "        self.df[\"nltk_sentiment\"] = self.df[col].apply(lambda x: self.sentiment_label(x))\n",
    "    \n",
    "    # NLTK Sentiment analysis model evaluation\n",
    "    def nltk_sentiment_evaluation(self):\n",
    "        acc = accuracy_score(self.df.nltk_sentiment, self.df.label)\n",
    "        class_report = classification_report(self.df.label, self.df.nltk_sentiment)\n",
    "        \n",
    "        print (\"Accuracy for NLTK Sentiment Analyzer:: \", acc)\n",
    "        print (\"Classification report :: \\n\", class_report)\n",
    "    \n",
    "    # NLTK Sentiment Analyzer approach 2\n",
    "    def nltk_sentiment_analysis_bow_2(self, model):\n",
    "        negative_fileids = movie_reviews.fileids('neg')\n",
    "        positive_fileids = movie_reviews.fileids('pos')\n",
    "        \n",
    "        # make tokenized movie reviews data\n",
    "        positive_reviews = [(word_tokenize(movie_reviews.raw(fileids=[f])), 'pos') for f in positive_fileids]\n",
    "        negative_reviews = [(word_tokenize(movie_reviews.raw(fileids=[f])), 'neg') for f in negative_fileids]\n",
    "\n",
    "        # 80% train test split\n",
    "        train_pos_reviews = positive_reviews[:800]\n",
    "        test_pos_reviews = positive_reviews[800:]\n",
    "        train_neg_reviews = negative_reviews[:800]\n",
    "        test_neg_reviews = negative_reviews[800:]\n",
    "        training_reviews = train_pos_reviews+train_neg_reviews\n",
    "        testing_reviews = test_pos_reviews+test_neg_reviews\n",
    "\n",
    "        words = sentim_analyzer.all_words([mark_negation(doc) for doc in training_reviews])\n",
    "\n",
    "        sentim_analyzer.all_words([review for review in training_reviews])\n",
    "\n",
    "        unigram_feats = sentim_analyzer.unigram_word_feats(words, min_freq=4)\n",
    "\n",
    "        # Add a feature extractor\n",
    "        sentim_analyzer.add_feat_extractor(extract_unigram_feats, unigrams=unigram_feats)\n",
    "\n",
    "        # Generate bag of words training and testing features\n",
    "        training_set = sentim_analyzer.apply_features(training_reviews)\n",
    "        test_set = sentim_analyzer.apply_features(testing_reviews)\n",
    "\n",
    "\n",
    "        trainer = model\n",
    "        classifier = sentim_analyzer.train(trainer, training_set)\n",
    "\n",
    "        # Evaluate model\n",
    "        for key,value in sorted(sentim_analyzer.evaluate(test_set).items()):\n",
    "            print('{0}: {1}'.format(key, value))\n",
    "            \n",
    "            \n",
    "    # Train and evaluate specified model, function can be reused with different models\n",
    "    def train_evaluate_model(self, model, X_train, X_test, y_train, y_test):\n",
    "        model.fit(X_train, y_train)\n",
    "        pred_test  = model.predict(X_test)\n",
    "        pred_train = model.predict(X_train)\n",
    "        prob_test  = model.predict_proba(X_test)\n",
    "        prob_train = model.predict_proba(X_train)\n",
    "        train_acc = accuracy_score(y_train, pred_train)\n",
    "        test_acc  = accuracy_score(y_test, pred_test)\n",
    "        train_auc_score = roc_auc_score(y_train, prob_train[:,1])\n",
    "        test_auc_score = roc_auc_score(y_test, prob_test[:,1])\n",
    "        class_report = classification_report(y_test, pred_test)\n",
    "\n",
    "        print (\"Model ROC-AUC score for training sample: %.3f\" \\\n",
    "                                      % train_auc_score)\n",
    "        print (\"Model ROC-AUC score for test sample: %.3f\" \\\n",
    "                                      % test_auc_score)\n",
    "        print (\"Train Accuracy: \", train_acc)\n",
    "        print (\"Test Accuracy: \", test_acc)\n",
    "        print (\"Classification report: \\n\", class_report)\n",
    "        skplt.metrics.plot_confusion_matrix(y_test, pred_test, title=\"Confusion Matrix\",\n",
    "                text_fontsize='large')\n",
    "        plt.show()\n",
    "        return(model)\n",
    "    \n",
    "    def hyperparameter_tuning(self, model, param_grid, X_train, y_train, cv = 5):\n",
    "        \n",
    "        optimal_model = GridSearchCV(\n",
    "            estimator = model,\n",
    "            param_grid=param_grid,\n",
    "            n_jobs = -1,\n",
    "            cv = cv,\n",
    "            scoring = 'accuracy',\n",
    "            verbose=2\n",
    "        )\n",
    "        optimal_model.fit(X_train, y_train)\n",
    "        print(optimal_model.best_score_)\n",
    "        print(optimal_model.best_params_)\n",
    "        return(optimal_model.best_estimator_)\n",
    "        \n"
   ]
  },
  {
   "cell_type": "markdown",
   "id": "87778502",
   "metadata": {},
   "source": [
    "## EDA\n",
    "\n",
    "Exploratory data analysis shows the dataset has 2000 movie reviews, equally distributed between positive and negative reviews. There is no class imbalance, so we can use accuracy metric for evaluation.\n",
    "\n",
    "word cloud"
   ]
  },
  {
   "cell_type": "code",
   "execution_count": 265,
   "id": "a3b33394",
   "metadata": {},
   "outputs": [
    {
     "name": "stdout",
     "output_type": "stream",
     "text": [
      "Total number of movies:  2000\n",
      "Movie review categories:  ['neg', 'pos']\n",
      "Number of positive and negative reviews:\n",
      " pos    1000\n",
      "neg    1000\n",
      "Name: label, dtype: int64\n",
      "\n",
      "\n",
      "\n",
      "Sample review:  you've got mail works alot better than it deserves to . \n",
      "in order to make the film a success , all they had to do was cast two extremely popular and attractive stars , have them share the screen for about two hours and then collect the profits . \n",
      "no real acting was involved and there is not an original or inventive bone in it's body ( it's basically a complete re-shoot of the shop around the corner , only adding a few modern twists ) . \n",
      "essentially , it goes against and defies all concepts of good contemporary filmmaking . \n",
      "it's overly sentimental and at times terribly mushy , not to mention very manipulative . \n",
      "but oh , how enjoyable that manipulation is . \n",
      "but there must be something other than the casting and manipulation that makes the movie work as well as it does , because i absolutely hated the previous ryan/hanks teaming , sleepless in seattle . \n",
      "it couldn't have been the directing , because both films were helmed by the same woman . \n",
      "i haven't quite yet figured out what i liked so much about you've got mail , but then again , is that really important ? \n",
      "if you like something so much , why even question it ? \n",
      "again , the storyline is as cliched as they come . \n",
      "tom hanks plays joe fox , the insanely likeable owner of a discount book chain and meg ryan plays kathleen kelley , the even more insanely likeable proprietor of a family-run children's book shop called , in a nice homage , the shop around the corner . \n",
      "fox and kelley soon become bitter rivals because the new fox books store is opening up right across the block from the small business . \n",
      "little do they know , they are already in love with each other over the internet , only neither party knows the other person's true identity . \n",
      "the rest of the story isn't important because all it does is serve as a mere backdrop for the two stars to share the screen . \n",
      "sure , there are some mildly interesting subplots , but they all fail in comparison to the utter cuteness of the main relationship . \n",
      "all of this , of course , leads up to the predictable climax . \n",
      "but as foreseeable as the ending is , it's so damn cute and well-done that i doubt any movie in the entire year contains a scene the evokes as much pure joy as this part does . \n",
      "when ryan discovers the true identity of her online love , i was filled with such , for lack of a better word , happiness that for the first time all year , i actually left the theater smiling . \n",
      "\n"
     ]
    }
   ],
   "source": [
    "text_process = TextProcess()\n",
    "text_process.eda()"
   ]
  },
  {
   "cell_type": "code",
   "execution_count": 255,
   "id": "7d9fadbc",
   "metadata": {},
   "outputs": [
    {
     "data": {
      "text/plain": [
       "0       films adapted from comic books have had plenty...\n",
       "1       every now and then a movie comes along from a ...\n",
       "2       you've got mail works alot better than it dese...\n",
       "3        \" jaws \" is a rare film that grabs your atten...\n",
       "4       moviemaking is a lot like being the general ma...\n",
       "                              ...                        \n",
       "1995    if anything , \" stigmata \" should be taken as ...\n",
       "1996    john boorman's \" zardoz \" is a goofy cinematic...\n",
       "1997    the kids in the hall are an acquired taste . \\...\n",
       "1998    there was a time when john carpenter was a gre...\n",
       "1999    two party guys bob their heads to haddaway's d...\n",
       "Name: review, Length: 2000, dtype: object"
      ]
     },
     "execution_count": 255,
     "metadata": {},
     "output_type": "execute_result"
    }
   ],
   "source": [
    "text_process.df['review']"
   ]
  },
  {
   "cell_type": "code",
   "execution_count": 256,
   "id": "7fe0ead7",
   "metadata": {},
   "outputs": [
    {
     "data": {
      "text/plain": [
       "\"you've got mail works alot better than it deserves to . \\nin order to make the film a success , all they had to do was cast two extremely popular and attractive stars , have them share the screen for about two hours and then collect the profits . \\nno real acting was involved and there is not an original or inventive bone in it's body ( it's basically a complete re-shoot of the shop around the corner , only adding a few modern twists ) . \\nessentially , it goes against and defies all concepts of good contemporary filmmaking . \\nit's overly sentimental and at times terribly mushy , not to mention very manipulative . \\nbut oh , how enjoyable that manipulation is . \\nbut there must be something other than the casting and manipulation that makes the movie work as well as it does , because i absolutely hated the previous ryan/hanks teaming , sleepless in seattle . \\nit couldn't have been the directing , because both films were helmed by the same woman . \\ni haven't quite yet figured out what i liked so much about you've got mail , but then again , is that really important ? \\nif you like something so much , why even question it ? \\nagain , the storyline is as cliched as they come . \\ntom hanks plays joe fox , the insanely likeable owner of a discount book chain and meg ryan plays kathleen kelley , the even more insanely likeable proprietor of a family-run children's book shop called , in a nice homage , the shop around the corner . \\nfox and kelley soon become bitter rivals because the new fox books store is opening up right across the block from the small business . \\nlittle do they know , they are already in love with each other over the internet , only neither party knows the other person's true identity . \\nthe rest of the story isn't important because all it does is serve as a mere backdrop for the two stars to share the screen . \\nsure , there are some mildly interesting subplots , but they all fail in comparison to the utter cuteness of the main relationship . \\nall of this , of course , leads up to the predictable climax . \\nbut as foreseeable as the ending is , it's so damn cute and well-done that i doubt any movie in the entire year contains a scene the evokes as much pure joy as this part does . \\nwhen ryan discovers the true identity of her online love , i was filled with such , for lack of a better word , happiness that for the first time all year , i actually left the theater smiling . \\n\""
      ]
     },
     "execution_count": 256,
     "metadata": {},
     "output_type": "execute_result"
    }
   ],
   "source": [
    "review_num = 2\n",
    "text_process.df['review'][review_num]"
   ]
  },
  {
   "cell_type": "markdown",
   "id": "2ab4d9b8",
   "metadata": {},
   "source": [
    "### 2.1 Lowercase\n",
    "\n",
    "First, we convert reviews to lowercase."
   ]
  },
  {
   "cell_type": "code",
   "execution_count": 234,
   "id": "f08d828e",
   "metadata": {},
   "outputs": [
    {
     "data": {
      "text/plain": [
       "\"you've got mail works alot better than it deserves to . \\nin order to make the film a success , all they had to do was cast two extremely popular and attractive stars , have them share the screen for about two hours and then collect the profits . \\nno real acting was involved and there is not an original or inventive bone in it's body ( it's basically a complete re-shoot of the shop around the corner , only adding a few modern twists ) . \\nessentially , it goes against and defies all concepts of good contemporary filmmaking . \\nit's overly sentimental and at times terribly mushy , not to mention very manipulative . \\nbut oh , how enjoyable that manipulation is . \\nbut there must be something other than the casting and manipulation that makes the movie work as well as it does , because i absolutely hated the previous ryan/hanks teaming , sleepless in seattle . \\nit couldn't have been the directing , because both films were helmed by the same woman . \\ni haven't quite yet figured out what i liked so much about you've got mail , but then again , is that really important ? \\nif you like something so much , why even question it ? \\nagain , the storyline is as cliched as they come . \\ntom hanks plays joe fox , the insanely likeable owner of a discount book chain and meg ryan plays kathleen kelley , the even more insanely likeable proprietor of a family-run children's book shop called , in a nice homage , the shop around the corner . \\nfox and kelley soon become bitter rivals because the new fox books store is opening up right across the block from the small business . \\nlittle do they know , they are already in love with each other over the internet , only neither party knows the other person's true identity . \\nthe rest of the story isn't important because all it does is serve as a mere backdrop for the two stars to share the screen . \\nsure , there are some mildly interesting subplots , but they all fail in comparison to the utter cuteness of the main relationship . \\nall of this , of course , leads up to the predictable climax . \\nbut as foreseeable as the ending is , it's so damn cute and well-done that i doubt any movie in the entire year contains a scene the evokes as much pure joy as this part does . \\nwhen ryan discovers the true identity of her online love , i was filled with such , for lack of a better word , happiness that for the first time all year , i actually left the theater smiling . \\n\""
      ]
     },
     "execution_count": 234,
     "metadata": {},
     "output_type": "execute_result"
    }
   ],
   "source": [
    "text_process.toLower('review')\n",
    "#text_process.toLowerWithPartOfSpeech('review')\n",
    "text_process.df['review'][review_num]"
   ]
  },
  {
   "cell_type": "markdown",
   "id": "dcd83c7f",
   "metadata": {},
   "source": [
    "### 2.2 Remove Punctuations\n",
    "\n",
    "Next, let us remove punctuations from the reviews"
   ]
  },
  {
   "cell_type": "code",
   "execution_count": 235,
   "id": "bfcb306f",
   "metadata": {},
   "outputs": [
    {
     "data": {
      "text/plain": [
       "'youve got mail works alot better than it deserves to   in order to make the film a success  all they had to do was cast two extremely popular and attractive stars  have them share the screen for about two hours and then collect the profits   no real acting was involved and there is not an original or inventive bone in its body  its basically a complete reshoot of the shop around the corner  only adding a few modern twists    essentially  it goes against and defies all concepts of good contemporary filmmaking   its overly sentimental and at times terribly mushy  not to mention very manipulative   but oh  how enjoyable that manipulation is   but there must be something other than the casting and manipulation that makes the movie work as well as it does  because i absolutely hated the previous ryanhanks teaming  sleepless in seattle   it couldnt have been the directing  because both films were helmed by the same woman   i havent quite yet figured out what i liked so much about youve got mail  but then again  is that really important   if you like something so much  why even question it   again  the storyline is as cliched as they come   tom hanks plays joe fox  the insanely likeable owner of a discount book chain and meg ryan plays kathleen kelley  the even more insanely likeable proprietor of a familyrun childrens book shop called  in a nice homage  the shop around the corner   fox and kelley soon become bitter rivals because the new fox books store is opening up right across the block from the small business   little do they know  they are already in love with each other over the internet  only neither party knows the other persons true identity   the rest of the story isnt important because all it does is serve as a mere backdrop for the two stars to share the screen   sure  there are some mildly interesting subplots  but they all fail in comparison to the utter cuteness of the main relationship   all of this  of course  leads up to the predictable climax   but as foreseeable as the ending is  its so damn cute and welldone that i doubt any movie in the entire year contains a scene the evokes as much pure joy as this part does   when ryan discovers the true identity of her online love  i was filled with such  for lack of a better word  happiness that for the first time all year  i actually left the theater smiling   '"
      ]
     },
     "execution_count": 235,
     "metadata": {},
     "output_type": "execute_result"
    }
   ],
   "source": [
    "text_process.removePunctuation('review')\n",
    "text_process.df['review'][review_num]"
   ]
  },
  {
   "cell_type": "markdown",
   "id": "fddce990",
   "metadata": {},
   "source": [
    "### 2.3 Remove Stopwords\n",
    "\n",
    "Next step is to remove the stopwords."
   ]
  },
  {
   "cell_type": "code",
   "execution_count": 236,
   "id": "1dd1e109",
   "metadata": {},
   "outputs": [
    {
     "data": {
      "text/plain": [
       "'youve got mail works alot better deserves order make film success cast two extremely popular attractive stars share screen two hours collect profits real acting involved original inventive bone body basically complete reshoot shop around corner adding modern twists essentially goes defies concepts good contemporary filmmaking overly sentimental times terribly mushy mention manipulative oh enjoyable manipulation must something casting manipulation makes movie work well absolutely hated previous ryanhanks teaming sleepless seattle couldnt directing films helmed woman havent quite yet figured liked much youve got mail really important like something much even question storyline cliched come tom hanks plays joe fox insanely likeable owner discount book chain meg ryan plays kathleen kelley even insanely likeable proprietor familyrun childrens book shop called nice homage shop around corner fox kelley soon become bitter rivals new fox books store opening right across block small business little know already love internet neither party knows persons true identity rest story isnt important serve mere backdrop two stars share screen sure mildly interesting subplots fail comparison utter cuteness main relationship course leads predictable climax foreseeable ending damn cute welldone doubt movie entire year contains scene evokes much pure joy part ryan discovers true identity online love filled lack better word happiness first time year actually left theater smiling'"
      ]
     },
     "execution_count": 236,
     "metadata": {},
     "output_type": "execute_result"
    }
   ],
   "source": [
    "text_process.removeStopwords('review')\n",
    "text_process.df['review'][review_num]"
   ]
  },
  {
   "cell_type": "markdown",
   "id": "db4a43d1",
   "metadata": {},
   "source": [
    "### 2.4 Tokenization\n",
    "We perform tokenization on the preprocessed reviews"
   ]
  },
  {
   "cell_type": "code",
   "execution_count": 237,
   "id": "32eedaf5",
   "metadata": {},
   "outputs": [
    {
     "data": {
      "text/plain": [
       "['youve',\n",
       " 'got',\n",
       " 'mail',\n",
       " 'works',\n",
       " 'alot',\n",
       " 'better',\n",
       " 'deserves',\n",
       " 'order',\n",
       " 'make',\n",
       " 'film',\n",
       " 'success',\n",
       " 'cast',\n",
       " 'two',\n",
       " 'extremely',\n",
       " 'popular',\n",
       " 'attractive',\n",
       " 'stars',\n",
       " 'share',\n",
       " 'screen',\n",
       " 'two',\n",
       " 'hours',\n",
       " 'collect',\n",
       " 'profits',\n",
       " 'real',\n",
       " 'acting',\n",
       " 'involved',\n",
       " 'original',\n",
       " 'inventive',\n",
       " 'bone',\n",
       " 'body',\n",
       " 'basically',\n",
       " 'complete',\n",
       " 'reshoot',\n",
       " 'shop',\n",
       " 'around',\n",
       " 'corner',\n",
       " 'adding',\n",
       " 'modern',\n",
       " 'twists',\n",
       " 'essentially',\n",
       " 'goes',\n",
       " 'defies',\n",
       " 'concepts',\n",
       " 'good',\n",
       " 'contemporary',\n",
       " 'filmmaking',\n",
       " 'overly',\n",
       " 'sentimental',\n",
       " 'times',\n",
       " 'terribly',\n",
       " 'mushy',\n",
       " 'mention',\n",
       " 'manipulative',\n",
       " 'oh',\n",
       " 'enjoyable',\n",
       " 'manipulation',\n",
       " 'must',\n",
       " 'something',\n",
       " 'casting',\n",
       " 'manipulation',\n",
       " 'makes',\n",
       " 'movie',\n",
       " 'work',\n",
       " 'well',\n",
       " 'absolutely',\n",
       " 'hated',\n",
       " 'previous',\n",
       " 'ryanhanks',\n",
       " 'teaming',\n",
       " 'sleepless',\n",
       " 'seattle',\n",
       " 'couldnt',\n",
       " 'directing',\n",
       " 'films',\n",
       " 'helmed',\n",
       " 'woman',\n",
       " 'havent',\n",
       " 'quite',\n",
       " 'yet',\n",
       " 'figured',\n",
       " 'liked',\n",
       " 'much',\n",
       " 'youve',\n",
       " 'got',\n",
       " 'mail',\n",
       " 'really',\n",
       " 'important',\n",
       " 'like',\n",
       " 'something',\n",
       " 'much',\n",
       " 'even',\n",
       " 'question',\n",
       " 'storyline',\n",
       " 'cliched',\n",
       " 'come',\n",
       " 'tom',\n",
       " 'hanks',\n",
       " 'plays',\n",
       " 'joe',\n",
       " 'fox',\n",
       " 'insanely',\n",
       " 'likeable',\n",
       " 'owner',\n",
       " 'discount',\n",
       " 'book',\n",
       " 'chain',\n",
       " 'meg',\n",
       " 'ryan',\n",
       " 'plays',\n",
       " 'kathleen',\n",
       " 'kelley',\n",
       " 'even',\n",
       " 'insanely',\n",
       " 'likeable',\n",
       " 'proprietor',\n",
       " 'familyrun',\n",
       " 'childrens',\n",
       " 'book',\n",
       " 'shop',\n",
       " 'called',\n",
       " 'nice',\n",
       " 'homage',\n",
       " 'shop',\n",
       " 'around',\n",
       " 'corner',\n",
       " 'fox',\n",
       " 'kelley',\n",
       " 'soon',\n",
       " 'become',\n",
       " 'bitter',\n",
       " 'rivals',\n",
       " 'new',\n",
       " 'fox',\n",
       " 'books',\n",
       " 'store',\n",
       " 'opening',\n",
       " 'right',\n",
       " 'across',\n",
       " 'block',\n",
       " 'small',\n",
       " 'business',\n",
       " 'little',\n",
       " 'know',\n",
       " 'already',\n",
       " 'love',\n",
       " 'internet',\n",
       " 'neither',\n",
       " 'party',\n",
       " 'knows',\n",
       " 'persons',\n",
       " 'true',\n",
       " 'identity',\n",
       " 'rest',\n",
       " 'story',\n",
       " 'isnt',\n",
       " 'important',\n",
       " 'serve',\n",
       " 'mere',\n",
       " 'backdrop',\n",
       " 'two',\n",
       " 'stars',\n",
       " 'share',\n",
       " 'screen',\n",
       " 'sure',\n",
       " 'mildly',\n",
       " 'interesting',\n",
       " 'subplots',\n",
       " 'fail',\n",
       " 'comparison',\n",
       " 'utter',\n",
       " 'cuteness',\n",
       " 'main',\n",
       " 'relationship',\n",
       " 'course',\n",
       " 'leads',\n",
       " 'predictable',\n",
       " 'climax',\n",
       " 'foreseeable',\n",
       " 'ending',\n",
       " 'damn',\n",
       " 'cute',\n",
       " 'welldone',\n",
       " 'doubt',\n",
       " 'movie',\n",
       " 'entire',\n",
       " 'year',\n",
       " 'contains',\n",
       " 'scene',\n",
       " 'evokes',\n",
       " 'much',\n",
       " 'pure',\n",
       " 'joy',\n",
       " 'part',\n",
       " 'ryan',\n",
       " 'discovers',\n",
       " 'true',\n",
       " 'identity',\n",
       " 'online',\n",
       " 'love',\n",
       " 'filled',\n",
       " 'lack',\n",
       " 'better',\n",
       " 'word',\n",
       " 'happiness',\n",
       " 'first',\n",
       " 'time',\n",
       " 'year',\n",
       " 'actually',\n",
       " 'left',\n",
       " 'theater',\n",
       " 'smiling']"
      ]
     },
     "execution_count": 237,
     "metadata": {},
     "output_type": "execute_result"
    }
   ],
   "source": [
    "text_process.tokenize('review')\n",
    "text_process.df['review_tokenized'][review_num]"
   ]
  },
  {
   "cell_type": "markdown",
   "id": "81e9c5ae",
   "metadata": {},
   "source": [
    "### 2.5 NLTK Stemming\n",
    "\n",
    "This step is convert a word to it's stem. I have used lemmatization in the final modeling"
   ]
  },
  {
   "cell_type": "code",
   "execution_count": 238,
   "id": "c6553a56",
   "metadata": {},
   "outputs": [],
   "source": [
    "# Not used, lemmatisation is used instead\n",
    "#text_process.nltk_stem('review_tokenized')\n"
   ]
  },
  {
   "cell_type": "markdown",
   "id": "5f6dbd83",
   "metadata": {},
   "source": [
    "### 2.6 Wordnet Lemmatization"
   ]
  },
  {
   "cell_type": "code",
   "execution_count": 239,
   "id": "3d1e074f",
   "metadata": {},
   "outputs": [
    {
     "data": {
      "text/plain": [
       "['youve',\n",
       " 'got',\n",
       " 'mail',\n",
       " 'work',\n",
       " 'alot',\n",
       " 'better',\n",
       " 'deserves',\n",
       " 'order',\n",
       " 'make',\n",
       " 'film',\n",
       " 'success',\n",
       " 'cast',\n",
       " 'two',\n",
       " 'extremely',\n",
       " 'popular',\n",
       " 'attractive',\n",
       " 'star',\n",
       " 'share',\n",
       " 'screen',\n",
       " 'two',\n",
       " 'hour',\n",
       " 'collect',\n",
       " 'profit',\n",
       " 'real',\n",
       " 'acting',\n",
       " 'involved',\n",
       " 'original',\n",
       " 'inventive',\n",
       " 'bone',\n",
       " 'body',\n",
       " 'basically',\n",
       " 'complete',\n",
       " 'reshoot',\n",
       " 'shop',\n",
       " 'around',\n",
       " 'corner',\n",
       " 'adding',\n",
       " 'modern',\n",
       " 'twist',\n",
       " 'essentially',\n",
       " 'go',\n",
       " 'defies',\n",
       " 'concept',\n",
       " 'good',\n",
       " 'contemporary',\n",
       " 'filmmaking',\n",
       " 'overly',\n",
       " 'sentimental',\n",
       " 'time',\n",
       " 'terribly',\n",
       " 'mushy',\n",
       " 'mention',\n",
       " 'manipulative',\n",
       " 'oh',\n",
       " 'enjoyable',\n",
       " 'manipulation',\n",
       " 'must',\n",
       " 'something',\n",
       " 'casting',\n",
       " 'manipulation',\n",
       " 'make',\n",
       " 'movie',\n",
       " 'work',\n",
       " 'well',\n",
       " 'absolutely',\n",
       " 'hated',\n",
       " 'previous',\n",
       " 'ryanhanks',\n",
       " 'teaming',\n",
       " 'sleepless',\n",
       " 'seattle',\n",
       " 'couldnt',\n",
       " 'directing',\n",
       " 'film',\n",
       " 'helmed',\n",
       " 'woman',\n",
       " 'havent',\n",
       " 'quite',\n",
       " 'yet',\n",
       " 'figured',\n",
       " 'liked',\n",
       " 'much',\n",
       " 'youve',\n",
       " 'got',\n",
       " 'mail',\n",
       " 'really',\n",
       " 'important',\n",
       " 'like',\n",
       " 'something',\n",
       " 'much',\n",
       " 'even',\n",
       " 'question',\n",
       " 'storyline',\n",
       " 'cliched',\n",
       " 'come',\n",
       " 'tom',\n",
       " 'hank',\n",
       " 'play',\n",
       " 'joe',\n",
       " 'fox',\n",
       " 'insanely',\n",
       " 'likeable',\n",
       " 'owner',\n",
       " 'discount',\n",
       " 'book',\n",
       " 'chain',\n",
       " 'meg',\n",
       " 'ryan',\n",
       " 'play',\n",
       " 'kathleen',\n",
       " 'kelley',\n",
       " 'even',\n",
       " 'insanely',\n",
       " 'likeable',\n",
       " 'proprietor',\n",
       " 'familyrun',\n",
       " 'childrens',\n",
       " 'book',\n",
       " 'shop',\n",
       " 'called',\n",
       " 'nice',\n",
       " 'homage',\n",
       " 'shop',\n",
       " 'around',\n",
       " 'corner',\n",
       " 'fox',\n",
       " 'kelley',\n",
       " 'soon',\n",
       " 'become',\n",
       " 'bitter',\n",
       " 'rival',\n",
       " 'new',\n",
       " 'fox',\n",
       " 'book',\n",
       " 'store',\n",
       " 'opening',\n",
       " 'right',\n",
       " 'across',\n",
       " 'block',\n",
       " 'small',\n",
       " 'business',\n",
       " 'little',\n",
       " 'know',\n",
       " 'already',\n",
       " 'love',\n",
       " 'internet',\n",
       " 'neither',\n",
       " 'party',\n",
       " 'know',\n",
       " 'person',\n",
       " 'true',\n",
       " 'identity',\n",
       " 'rest',\n",
       " 'story',\n",
       " 'isnt',\n",
       " 'important',\n",
       " 'serve',\n",
       " 'mere',\n",
       " 'backdrop',\n",
       " 'two',\n",
       " 'star',\n",
       " 'share',\n",
       " 'screen',\n",
       " 'sure',\n",
       " 'mildly',\n",
       " 'interesting',\n",
       " 'subplots',\n",
       " 'fail',\n",
       " 'comparison',\n",
       " 'utter',\n",
       " 'cuteness',\n",
       " 'main',\n",
       " 'relationship',\n",
       " 'course',\n",
       " 'lead',\n",
       " 'predictable',\n",
       " 'climax',\n",
       " 'foreseeable',\n",
       " 'ending',\n",
       " 'damn',\n",
       " 'cute',\n",
       " 'welldone',\n",
       " 'doubt',\n",
       " 'movie',\n",
       " 'entire',\n",
       " 'year',\n",
       " 'contains',\n",
       " 'scene',\n",
       " 'evokes',\n",
       " 'much',\n",
       " 'pure',\n",
       " 'joy',\n",
       " 'part',\n",
       " 'ryan',\n",
       " 'discovers',\n",
       " 'true',\n",
       " 'identity',\n",
       " 'online',\n",
       " 'love',\n",
       " 'filled',\n",
       " 'lack',\n",
       " 'better',\n",
       " 'word',\n",
       " 'happiness',\n",
       " 'first',\n",
       " 'time',\n",
       " 'year',\n",
       " 'actually',\n",
       " 'left',\n",
       " 'theater',\n",
       " 'smiling']"
      ]
     },
     "execution_count": 239,
     "metadata": {},
     "output_type": "execute_result"
    }
   ],
   "source": [
    "text_process.wordnet_lemmatize('review_tokenized')\n",
    "text_process.df['review_tokenized'][review_num]"
   ]
  },
  {
   "cell_type": "markdown",
   "id": "1a729ce7",
   "metadata": {},
   "source": [
    "### 2.7 Frequencies of words\n",
    "\n",
    "Plotting the frequencies of words shows the words 'film', 'movie' are repeated a lot, which do not seem significant, so we will remove them in next step."
   ]
  },
  {
   "cell_type": "code",
   "execution_count": 240,
   "id": "105b597a",
   "metadata": {},
   "outputs": [
    {
     "data": {
      "image/png": "[encoded data removed]",
      "text/plain": [
       "<Figure size 1080x576 with 1 Axes>"
      ]
     },
     "metadata": {
      "needs_background": "light"
     },
     "output_type": "display_data"
    },
    {
     "data": {
      "image/png": "[encoded data removed]",
      "text/plain": [
       "<Figure size 1080x576 with 1 Axes>"
      ]
     },
     "metadata": {
      "needs_background": "light"
     },
     "output_type": "display_data"
    },
    {
     "data": {
      "image/png": "[encoded data removed]",
      "text/plain": [
       "<Figure size 1080x576 with 1 Axes>"
      ]
     },
     "metadata": {
      "needs_background": "light"
     },
     "output_type": "display_data"
    }
   ],
   "source": [
    "text_process.freq_plot('review_tokenized')\n"
   ]
  },
  {
   "cell_type": "markdown",
   "id": "2669b6c5",
   "metadata": {},
   "source": [
    "### 2.8 Remove frequent unimportant words\n",
    "\n",
    "We have removed words like film and movie"
   ]
  },
  {
   "cell_type": "code",
   "execution_count": 241,
   "id": "55be992d",
   "metadata": {},
   "outputs": [
    {
     "data": {
      "text/plain": [
       "['youve',\n",
       " 'got',\n",
       " 'mail',\n",
       " 'work',\n",
       " 'alot',\n",
       " 'better',\n",
       " 'deserves',\n",
       " 'order',\n",
       " 'make',\n",
       " 'success',\n",
       " 'cast',\n",
       " 'two',\n",
       " 'extremely',\n",
       " 'popular',\n",
       " 'attractive',\n",
       " 'star',\n",
       " 'share',\n",
       " 'screen',\n",
       " 'two',\n",
       " 'hour',\n",
       " 'collect',\n",
       " 'profit',\n",
       " 'real',\n",
       " 'acting',\n",
       " 'involved',\n",
       " 'original',\n",
       " 'inventive',\n",
       " 'bone',\n",
       " 'body',\n",
       " 'basically',\n",
       " 'complete',\n",
       " 'reshoot',\n",
       " 'shop',\n",
       " 'around',\n",
       " 'corner',\n",
       " 'adding',\n",
       " 'modern',\n",
       " 'twist',\n",
       " 'essentially',\n",
       " 'go',\n",
       " 'defies',\n",
       " 'concept',\n",
       " 'good',\n",
       " 'contemporary',\n",
       " 'filmmaking',\n",
       " 'overly',\n",
       " 'sentimental',\n",
       " 'time',\n",
       " 'terribly',\n",
       " 'mushy',\n",
       " 'mention',\n",
       " 'manipulative',\n",
       " 'oh',\n",
       " 'enjoyable',\n",
       " 'manipulation',\n",
       " 'must',\n",
       " 'something',\n",
       " 'casting',\n",
       " 'manipulation',\n",
       " 'make',\n",
       " 'work',\n",
       " 'well',\n",
       " 'absolutely',\n",
       " 'hated',\n",
       " 'previous',\n",
       " 'ryanhanks',\n",
       " 'teaming',\n",
       " 'sleepless',\n",
       " 'seattle',\n",
       " 'couldnt',\n",
       " 'directing',\n",
       " 'helmed',\n",
       " 'woman',\n",
       " 'havent',\n",
       " 'quite',\n",
       " 'yet',\n",
       " 'figured',\n",
       " 'liked',\n",
       " 'much',\n",
       " 'youve',\n",
       " 'got',\n",
       " 'mail',\n",
       " 'really',\n",
       " 'important',\n",
       " 'like',\n",
       " 'something',\n",
       " 'much',\n",
       " 'even',\n",
       " 'question',\n",
       " 'storyline',\n",
       " 'cliched',\n",
       " 'come',\n",
       " 'tom',\n",
       " 'hank',\n",
       " 'play',\n",
       " 'joe',\n",
       " 'fox',\n",
       " 'insanely',\n",
       " 'likeable',\n",
       " 'owner',\n",
       " 'discount',\n",
       " 'book',\n",
       " 'chain',\n",
       " 'meg',\n",
       " 'ryan',\n",
       " 'play',\n",
       " 'kathleen',\n",
       " 'kelley',\n",
       " 'even',\n",
       " 'insanely',\n",
       " 'likeable',\n",
       " 'proprietor',\n",
       " 'familyrun',\n",
       " 'childrens',\n",
       " 'book',\n",
       " 'shop',\n",
       " 'called',\n",
       " 'nice',\n",
       " 'homage',\n",
       " 'shop',\n",
       " 'around',\n",
       " 'corner',\n",
       " 'fox',\n",
       " 'kelley',\n",
       " 'soon',\n",
       " 'become',\n",
       " 'bitter',\n",
       " 'rival',\n",
       " 'new',\n",
       " 'fox',\n",
       " 'book',\n",
       " 'store',\n",
       " 'opening',\n",
       " 'right',\n",
       " 'across',\n",
       " 'block',\n",
       " 'small',\n",
       " 'business',\n",
       " 'little',\n",
       " 'know',\n",
       " 'already',\n",
       " 'love',\n",
       " 'internet',\n",
       " 'neither',\n",
       " 'party',\n",
       " 'know',\n",
       " 'person',\n",
       " 'true',\n",
       " 'identity',\n",
       " 'rest',\n",
       " 'story',\n",
       " 'isnt',\n",
       " 'important',\n",
       " 'serve',\n",
       " 'mere',\n",
       " 'backdrop',\n",
       " 'two',\n",
       " 'star',\n",
       " 'share',\n",
       " 'screen',\n",
       " 'sure',\n",
       " 'mildly',\n",
       " 'interesting',\n",
       " 'subplots',\n",
       " 'fail',\n",
       " 'comparison',\n",
       " 'utter',\n",
       " 'cuteness',\n",
       " 'main',\n",
       " 'relationship',\n",
       " 'course',\n",
       " 'lead',\n",
       " 'predictable',\n",
       " 'climax',\n",
       " 'foreseeable',\n",
       " 'ending',\n",
       " 'damn',\n",
       " 'cute',\n",
       " 'welldone',\n",
       " 'doubt',\n",
       " 'entire',\n",
       " 'year',\n",
       " 'contains',\n",
       " 'scene',\n",
       " 'evokes',\n",
       " 'much',\n",
       " 'pure',\n",
       " 'joy',\n",
       " 'part',\n",
       " 'ryan',\n",
       " 'discovers',\n",
       " 'true',\n",
       " 'identity',\n",
       " 'online',\n",
       " 'love',\n",
       " 'filled',\n",
       " 'lack',\n",
       " 'better',\n",
       " 'word',\n",
       " 'happiness',\n",
       " 'first',\n",
       " 'time',\n",
       " 'year',\n",
       " 'actually',\n",
       " 'left',\n",
       " 'theater',\n",
       " 'smiling']"
      ]
     },
     "execution_count": 241,
     "metadata": {},
     "output_type": "execute_result"
    }
   ],
   "source": [
    "text_process.remove_freq_unimportant_words('review_tokenized', n = 2)\n",
    "text_process.df['review_tokenized'][review_num]"
   ]
  },
  {
   "cell_type": "markdown",
   "id": "c3052af3",
   "metadata": {},
   "source": [
    "### 3. NLTK Sentiment Analyser"
   ]
  },
  {
   "cell_type": "markdown",
   "id": "b944a5e2",
   "metadata": {},
   "source": [
    "#### 3.1 Approach 1"
   ]
  },
  {
   "cell_type": "code",
   "execution_count": 261,
   "id": "fa55f1f2",
   "metadata": {},
   "outputs": [
    {
     "data": {
      "text/html": [
       "<div>\n",
       "<style scoped>\n",
       "    .dataframe tbody tr th:only-of-type {\n",
       "        vertical-align: middle;\n",
       "    }\n",
       "\n",
       "    .dataframe tbody tr th {\n",
       "        vertical-align: top;\n",
       "    }\n",
       "\n",
       "    .dataframe thead th {\n",
       "        text-align: right;\n",
       "    }\n",
       "</style>\n",
       "<table border=\"1\" class=\"dataframe\">\n",
       "  <thead>\n",
       "    <tr style=\"text-align: right;\">\n",
       "      <th></th>\n",
       "      <th>review</th>\n",
       "      <th>label</th>\n",
       "      <th>raw_review</th>\n",
       "      <th>nltk_sentiment</th>\n",
       "    </tr>\n",
       "  </thead>\n",
       "  <tbody>\n",
       "    <tr>\n",
       "      <th>0</th>\n",
       "      <td>films adapted from comic books have had plenty...</td>\n",
       "      <td>pos</td>\n",
       "      <td>films adapted from comic books have had plenty...</td>\n",
       "      <td>neg</td>\n",
       "    </tr>\n",
       "    <tr>\n",
       "      <th>1</th>\n",
       "      <td>every now and then a movie comes along from a ...</td>\n",
       "      <td>pos</td>\n",
       "      <td>every now and then a movie comes along from a ...</td>\n",
       "      <td>neg</td>\n",
       "    </tr>\n",
       "    <tr>\n",
       "      <th>2</th>\n",
       "      <td>you've got mail works alot better than it dese...</td>\n",
       "      <td>pos</td>\n",
       "      <td>you've got mail works alot better than it dese...</td>\n",
       "      <td>pos</td>\n",
       "    </tr>\n",
       "    <tr>\n",
       "      <th>3</th>\n",
       "      <td>\" jaws \" is a rare film that grabs your atten...</td>\n",
       "      <td>pos</td>\n",
       "      <td>\" jaws \" is a rare film that grabs your atten...</td>\n",
       "      <td>neg</td>\n",
       "    </tr>\n",
       "    <tr>\n",
       "      <th>4</th>\n",
       "      <td>moviemaking is a lot like being the general ma...</td>\n",
       "      <td>pos</td>\n",
       "      <td>moviemaking is a lot like being the general ma...</td>\n",
       "      <td>neg</td>\n",
       "    </tr>\n",
       "    <tr>\n",
       "      <th>...</th>\n",
       "      <td>...</td>\n",
       "      <td>...</td>\n",
       "      <td>...</td>\n",
       "      <td>...</td>\n",
       "    </tr>\n",
       "    <tr>\n",
       "      <th>1995</th>\n",
       "      <td>if anything , \" stigmata \" should be taken as ...</td>\n",
       "      <td>neg</td>\n",
       "      <td>if anything , \" stigmata \" should be taken as ...</td>\n",
       "      <td>neg</td>\n",
       "    </tr>\n",
       "    <tr>\n",
       "      <th>1996</th>\n",
       "      <td>john boorman's \" zardoz \" is a goofy cinematic...</td>\n",
       "      <td>neg</td>\n",
       "      <td>john boorman's \" zardoz \" is a goofy cinematic...</td>\n",
       "      <td>neg</td>\n",
       "    </tr>\n",
       "    <tr>\n",
       "      <th>1997</th>\n",
       "      <td>the kids in the hall are an acquired taste . \\...</td>\n",
       "      <td>neg</td>\n",
       "      <td>the kids in the hall are an acquired taste . \\...</td>\n",
       "      <td>neg</td>\n",
       "    </tr>\n",
       "    <tr>\n",
       "      <th>1998</th>\n",
       "      <td>there was a time when john carpenter was a gre...</td>\n",
       "      <td>neg</td>\n",
       "      <td>there was a time when john carpenter was a gre...</td>\n",
       "      <td>neg</td>\n",
       "    </tr>\n",
       "    <tr>\n",
       "      <th>1999</th>\n",
       "      <td>two party guys bob their heads to haddaway's d...</td>\n",
       "      <td>neg</td>\n",
       "      <td>two party guys bob their heads to haddaway's d...</td>\n",
       "      <td>pos</td>\n",
       "    </tr>\n",
       "  </tbody>\n",
       "</table>\n",
       "<p>2000 rows × 4 columns</p>\n",
       "</div>"
      ],
      "text/plain": [
       "                                                 review label  \\\n",
       "0     films adapted from comic books have had plenty...   pos   \n",
       "1     every now and then a movie comes along from a ...   pos   \n",
       "2     you've got mail works alot better than it dese...   pos   \n",
       "3      \" jaws \" is a rare film that grabs your atten...   pos   \n",
       "4     moviemaking is a lot like being the general ma...   pos   \n",
       "...                                                 ...   ...   \n",
       "1995  if anything , \" stigmata \" should be taken as ...   neg   \n",
       "1996  john boorman's \" zardoz \" is a goofy cinematic...   neg   \n",
       "1997  the kids in the hall are an acquired taste . \\...   neg   \n",
       "1998  there was a time when john carpenter was a gre...   neg   \n",
       "1999  two party guys bob their heads to haddaway's d...   neg   \n",
       "\n",
       "                                             raw_review nltk_sentiment  \n",
       "0     films adapted from comic books have had plenty...            neg  \n",
       "1     every now and then a movie comes along from a ...            neg  \n",
       "2     you've got mail works alot better than it dese...            pos  \n",
       "3      \" jaws \" is a rare film that grabs your atten...            neg  \n",
       "4     moviemaking is a lot like being the general ma...            neg  \n",
       "...                                                 ...            ...  \n",
       "1995  if anything , \" stigmata \" should be taken as ...            neg  \n",
       "1996  john boorman's \" zardoz \" is a goofy cinematic...            neg  \n",
       "1997  the kids in the hall are an acquired taste . \\...            neg  \n",
       "1998  there was a time when john carpenter was a gre...            neg  \n",
       "1999  two party guys bob their heads to haddaway's d...            pos  \n",
       "\n",
       "[2000 rows x 4 columns]"
      ]
     },
     "execution_count": 261,
     "metadata": {},
     "output_type": "execute_result"
    }
   ],
   "source": [
    "text_process.nltk_sentiment_analysis('raw_review')\n",
    "text_process.df"
   ]
  },
  {
   "cell_type": "code",
   "execution_count": 262,
   "id": "a2c26f8c",
   "metadata": {},
   "outputs": [
    {
     "name": "stdout",
     "output_type": "stream",
     "text": [
      "Accuracy for NLTK Sentiment Analyzer::  0.6795\n",
      "Classification report :: \n",
      "               precision    recall  f1-score   support\n",
      "\n",
      "         neg       0.65      0.78      0.71      1000\n",
      "         pos       0.72      0.58      0.64      1000\n",
      "\n",
      "    accuracy                           0.68      2000\n",
      "   macro avg       0.69      0.68      0.68      2000\n",
      "weighted avg       0.69      0.68      0.68      2000\n",
      "\n"
     ]
    }
   ],
   "source": [
    "text_process.nltk_sentiment_evaluation()"
   ]
  },
  {
   "cell_type": "markdown",
   "id": "f8907671",
   "metadata": {},
   "source": [
    "#### Approach 2\n",
    "\n",
    "#### Naive Bayes"
   ]
  },
  {
   "cell_type": "code",
   "execution_count": null,
   "id": "7f51baa5",
   "metadata": {},
   "outputs": [],
   "source": [
    "text_process.nltk_sentiment_analysis_bow_2(NaiveBayesClassifier.train)"
   ]
  },
  {
   "cell_type": "code",
   "execution_count": null,
   "id": "eb16f5f4",
   "metadata": {},
   "outputs": [],
   "source": [
    "from nltk.classify import DecisionTreeClassifier"
   ]
  },
  {
   "cell_type": "markdown",
   "id": "395e4c17",
   "metadata": {},
   "source": [
    "## Modeling"
   ]
  },
  {
   "cell_type": "markdown",
   "id": "6e0be36e",
   "metadata": {},
   "source": [
    "### Creating Bag-Of-Words using Count Vectorizer"
   ]
  },
  {
   "cell_type": "code",
   "execution_count": 186,
   "id": "5d319fc6",
   "metadata": {},
   "outputs": [
    {
     "data": {
      "text/plain": [
       "(CountVectorizer(max_features=25000), (2000, 25000))"
      ]
     },
     "execution_count": 186,
     "metadata": {},
     "output_type": "execute_result"
    }
   ],
   "source": [
    "cnt_vec, X_bow, y = text_process.create_bow('review_tokenized', max_features = 25000)\n",
    "\n",
    "cnt_vec, X_bow.shape"
   ]
  },
  {
   "cell_type": "markdown",
   "id": "583b3582",
   "metadata": {},
   "source": [
    "### Train Test Split"
   ]
  },
  {
   "cell_type": "code",
   "execution_count": 187,
   "id": "59a8b541",
   "metadata": {},
   "outputs": [
    {
     "name": "stdout",
     "output_type": "stream",
     "text": [
      "Number of positive reviews in training set:  704\n",
      "Number of positive reviews in test set:  296\n",
      "Ratio of positive reviews in training set:  0.5\n",
      "Ratio of positive reviews in testing data set:  0.49\n"
     ]
    }
   ],
   "source": [
    "X_train, X_test, y_train, y_test = train_test_split(X_bow.toarray(), y, test_size=0.3, random_state=100)\n",
    "print (\"Number of positive reviews in training set: \" , y_train.sum())\n",
    "print (\"Number of positive reviews in test set: \",y_test.sum())\n",
    "\n",
    "print (\"Ratio of positive reviews in training set: \" , round(y_train.sum()/len(y_train),2))\n",
    "print (\"Ratio of positive reviews in testing data set: \", round(y_test.sum()/len(y_test),2))"
   ]
  },
  {
   "cell_type": "markdown",
   "id": "92e689ec",
   "metadata": {},
   "source": [
    "## Modeling and Performance Metrics"
   ]
  },
  {
   "cell_type": "markdown",
   "id": "863a80e1",
   "metadata": {},
   "source": [
    "### Decision Tree Classifier\n",
    "\n",
    "Decision tree is a non linear tree based classfier, which does not perform that well on this dataset, with a test accuracy of 0.63 and roc-auc score of 0.63"
   ]
  },
  {
   "cell_type": "code",
   "execution_count": 188,
   "id": "21eedb2f",
   "metadata": {},
   "outputs": [
    {
     "name": "stdout",
     "output_type": "stream",
     "text": [
      "Model ROC-AUC score for training sample: 1.000\n",
      "Model ROC-AUC score for test sample: 0.629\n",
      "Train Accuracy ::  1.0\n",
      "Test Accuracy ::  0.6283333333333333\n",
      "Classification report :: \n",
      "               precision    recall  f1-score   support\n",
      "\n",
      "           0       0.64      0.61      0.62       304\n",
      "           1       0.62      0.65      0.63       296\n",
      "\n",
      "    accuracy                           0.63       600\n",
      "   macro avg       0.63      0.63      0.63       600\n",
      "weighted avg       0.63      0.63      0.63       600\n",
      "\n"
     ]
    },
    {
     "data": {
      "image/png": "[encoded data removed]",
      "text/plain": [
       "<Figure size 432x288 with 2 Axes>"
      ]
     },
     "metadata": {
      "needs_background": "light"
     },
     "output_type": "display_data"
    }
   ],
   "source": [
    "dt = text_process.train_evaluate_model(DecisionTreeClassifier(), X_train, X_test, y_train, y_test)"
   ]
  },
  {
   "cell_type": "markdown",
   "id": "1078e7be",
   "metadata": {},
   "source": [
    "### Logistic Regression\n",
    "\n",
    "Logistic regression performs the best with test accuracy of 0.84 and roc-auc score of 0.91"
   ]
  },
  {
   "cell_type": "code",
   "execution_count": 48,
   "id": "f1eef904",
   "metadata": {},
   "outputs": [
    {
     "name": "stdout",
     "output_type": "stream",
     "text": [
      "Model ROC-AUC score for training sample: 1.000\n",
      "Model ROC-AUC score for test sample: 0.912\n",
      "Train Accuracy ::  1.0\n",
      "Test Accuracy ::  0.8416666666666667\n",
      "Classification report :: \n",
      "               precision    recall  f1-score   support\n",
      "\n",
      "           0       0.84      0.85      0.84       304\n",
      "           1       0.84      0.83      0.84       296\n",
      "\n",
      "    accuracy                           0.84       600\n",
      "   macro avg       0.84      0.84      0.84       600\n",
      "weighted avg       0.84      0.84      0.84       600\n",
      "\n"
     ]
    },
    {
     "data": {
      "image/png": "[encoded data removed]",
      "text/plain": [
       "<Figure size 432x288 with 2 Axes>"
      ]
     },
     "metadata": {
      "needs_background": "light"
     },
     "output_type": "display_data"
    }
   ],
   "source": [
    "lr = text_process.train_evaluate_model(LogisticRegression(), X_train, X_test, y_train, y_test)"
   ]
  },
  {
   "cell_type": "markdown",
   "id": "1c94aa7c",
   "metadata": {},
   "source": [
    "### Naive Bayes\n",
    "\n",
    "Naive Bayes also performs well, with test accuracy 0.83 and roc-auc score 0.89"
   ]
  },
  {
   "cell_type": "code",
   "execution_count": 49,
   "id": "3196820d",
   "metadata": {},
   "outputs": [
    {
     "name": "stdout",
     "output_type": "stream",
     "text": [
      "Model ROC-AUC score for training sample: 0.998\n",
      "Model ROC-AUC score for test sample: 0.899\n",
      "Train Accuracy ::  0.9807142857142858\n",
      "Test Accuracy ::  0.8366666666666667\n",
      "Classification report :: \n",
      "               precision    recall  f1-score   support\n",
      "\n",
      "           0       0.82      0.87      0.84       304\n",
      "           1       0.86      0.80      0.83       296\n",
      "\n",
      "    accuracy                           0.84       600\n",
      "   macro avg       0.84      0.84      0.84       600\n",
      "weighted avg       0.84      0.84      0.84       600\n",
      "\n"
     ]
    },
    {
     "data": {
      "image/png": "[encoded data removed]",
      "text/plain": [
       "<Figure size 432x288 with 2 Axes>"
      ]
     },
     "metadata": {
      "needs_background": "light"
     },
     "output_type": "display_data"
    }
   ],
   "source": [
    "nb = text_process.train_evaluate_model(MultinomialNB(), X_train, X_test, y_train, y_test)"
   ]
  },
  {
   "cell_type": "markdown",
   "id": "0b0ab52b",
   "metadata": {},
   "source": [
    "### Random Forest\n",
    "\n",
    "Random forest is a tree based ensemble modeling algorithm and it performs well, with test accuracy 0.81 and roc-auc score of 0.89"
   ]
  },
  {
   "cell_type": "code",
   "execution_count": 50,
   "id": "8ecbc395",
   "metadata": {},
   "outputs": [
    {
     "name": "stdout",
     "output_type": "stream",
     "text": [
      "Model ROC-AUC score for training sample: 1.000\n",
      "Model ROC-AUC score for test sample: 0.904\n",
      "Train Accuracy ::  1.0\n",
      "Test Accuracy ::  0.8216666666666667\n",
      "Classification report :: \n",
      "               precision    recall  f1-score   support\n",
      "\n",
      "           0       0.81      0.84      0.83       304\n",
      "           1       0.83      0.80      0.82       296\n",
      "\n",
      "    accuracy                           0.82       600\n",
      "   macro avg       0.82      0.82      0.82       600\n",
      "weighted avg       0.82      0.82      0.82       600\n",
      "\n"
     ]
    },
    {
     "data": {
      "image/png": "[encoded data removed]",
      "text/plain": [
       "<Figure size 432x288 with 2 Axes>"
      ]
     },
     "metadata": {
      "needs_background": "light"
     },
     "output_type": "display_data"
    }
   ],
   "source": [
    "rf = text_process.train_evaluate_model(RandomForestClassifier(), X_train, X_test, y_train, y_test)"
   ]
  },
  {
   "cell_type": "markdown",
   "id": "d7df7e88",
   "metadata": {},
   "source": [
    "### Gradient Boosting\n",
    "\n",
    "Gradient boosting is a boosting ensembling algorithm, and it performs well with test accuracy 0.82 and roc-auc score 0.89, but is computationally expensive."
   ]
  },
  {
   "cell_type": "code",
   "execution_count": 23,
   "id": "714659ef",
   "metadata": {},
   "outputs": [
    {
     "name": "stdout",
     "output_type": "stream",
     "text": [
      "Model ROC-AUC score for training sample: 0.998\n",
      "Model ROC-AUC score for test sample: 0.894\n",
      "Train Accuracy ::  0.9785714285714285\n",
      "Test Accuracy ::  0.805\n",
      "Classification report :: \n",
      "               precision    recall  f1-score   support\n",
      "\n",
      "           0       0.82      0.79      0.80       304\n",
      "           1       0.79      0.82      0.81       296\n",
      "\n",
      "    accuracy                           0.81       600\n",
      "   macro avg       0.81      0.81      0.80       600\n",
      "weighted avg       0.81      0.81      0.80       600\n",
      "\n"
     ]
    },
    {
     "data": {
      "image/png": "[encoded data removed]",
      "text/plain": [
       "<Figure size 432x288 with 2 Axes>"
      ]
     },
     "metadata": {
      "needs_background": "light"
     },
     "output_type": "display_data"
    }
   ],
   "source": [
    "gb = text_process.train_evaluate_model(GradientBoostingClassifier(), X_train, X_test, y_train, y_test)"
   ]
  },
  {
   "cell_type": "markdown",
   "id": "699dc2f9",
   "metadata": {},
   "source": [
    "### Hyperparameter Tuning\n",
    "Note: Takes time to run"
   ]
  },
  {
   "cell_type": "markdown",
   "id": "352bdaf1",
   "metadata": {},
   "source": [
    "#### Logistic Regression"
   ]
  },
  {
   "cell_type": "code",
   "execution_count": 53,
   "id": "2233ad81",
   "metadata": {},
   "outputs": [
    {
     "name": "stdout",
     "output_type": "stream",
     "text": [
      "Fitting 5 folds for each of 3 candidates, totalling 15 fits\n",
      "0.8264285714285714\n",
      "{'C': 0.01}\n"
     ]
    }
   ],
   "source": [
    "param_grid = {\n",
    "    #\"penalty\":[\"l2\", \"elasticnet\", None],\n",
    "    \"C\":[0.001, 0.01, 0.1]\n",
    " }\n",
    "\n",
    "opt_lr = text_process.hyperparameter_tuning(LogisticRegression(), param_grid, X_train, y_train, cv = 5)"
   ]
  },
  {
   "cell_type": "markdown",
   "id": "6a395e56",
   "metadata": {},
   "source": [
    "#### Random Forest"
   ]
  },
  {
   "cell_type": "code",
   "execution_count": null,
   "id": "77ceede9",
   "metadata": {},
   "outputs": [],
   "source": [
    "param_grid = {\n",
    " #'bootstrap': [True, False],\n",
    " 'max_depth': [10,  50, None],\n",
    " #'max_features': ['auto', 'sqrt'],\n",
    " #'min_samples_leaf': [1, 2, 4],\n",
    " #'min_samples_split': [2, 5, 10],\n",
    " 'n_estimators': [200, 600, 1000]\n",
    "}\n",
    "\n",
    "opt_rf = text_process.hyperparameter_tuning(RandomForestClassifier(), param_grid, X_train, y_train, cv = 5)"
   ]
  },
  {
   "cell_type": "markdown",
   "id": "3cbf5d78",
   "metadata": {},
   "source": [
    "### Model comparison best metrics"
   ]
  },
  {
   "cell_type": "markdown",
   "id": "37455c3e",
   "metadata": {},
   "source": [
    "Model |            Test Accuracy  |   Test ROC-AUC Score \n",
    "-------------------|---------|----------\n",
    "Decision Tree | 0.63 |0.63\n",
    "Logistic Regression | 0.841 | 0.91\n",
    "Naive Bayes |0.836 |0.89\n",
    "Random Forest| 0.816| 0.89\n",
    "Gradient Boosting| 0.821| 0.89"
   ]
  },
  {
   "cell_type": "markdown",
   "id": "79882f37",
   "metadata": {},
   "source": [
    "From the experiments, we see Logistic Regression has the best performance in terms of both accuracy and roc-auc score in all models, closely followed by Naive Bayes and Gradient Boosting and Random Forest. Decision tree tends to overfit, with high training accuracy and low test accuracy."
   ]
  }
 ],
 "metadata": {
  "kernelspec": {
   "display_name": "Python 3 (ipykernel)",
   "language": "python",
   "name": "python3"
  },
  "language_info": {
   "codemirror_mode": {
    "name": "ipython",
    "version": 3
   },
   "file_extension": ".py",
   "mimetype": "text/x-python",
   "name": "python",
   "nbconvert_exporter": "python",
   "pygments_lexer": "ipython3",
   "version": "3.9.7"
  }
 },
 "nbformat": 4,
 "nbformat_minor": 5
}
